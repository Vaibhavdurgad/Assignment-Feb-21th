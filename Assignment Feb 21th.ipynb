{
 "cells": [
  {
   "cell_type": "markdown",
   "id": "421ea621-f8d5-4cfe-9f8d-5f71e3b37ade",
   "metadata": {},
   "source": [
    "Q1. What is Web Scraping? Why is it Used? Give three areas where Web Scraping is used to get data."
   ]
  },
  {
   "cell_type": "markdown",
   "id": "45f57f05-1dd2-4f07-886a-8bb15ae2a907",
   "metadata": {},
   "source": [
    "Ans:Web scraping (or data scraping) is a technique used to collect content and data from the internet. This data is usually saved in a local file so that it can be manipulated and analyzed as needed. If you’ve ever copied and pasted content from a website into an Excel spreadsheet, this is essentially what web scraping is, but on a very small scale."
   ]
  },
  {
   "cell_type": "markdown",
   "id": "6a9cb6e8-cb81-4ba5-b2d0-9c826f10f788",
   "metadata": {},
   "source": [
    "Web scraping is used in a variety of digital businesses that rely on data harvesting. Legitimate use cases include: Search engine bots crawling a site, analyzing its content and then ranking it. Price comparison sites deploying bots to auto-fetch prices and product descriptions for allied seller websites."
   ]
  },
  {
   "cell_type": "markdown",
   "id": "d226303a-7fb0-4d2a-864f-429b6bfce4a5",
   "metadata": {},
   "source": [
    "Web Scraping can be used to periodically extract data of products from various e-commerce websites like Amazon, eBay, Google Shopping etc."
   ]
  },
  {
   "cell_type": "markdown",
   "id": "2ce09380-85f9-4544-9839-f87eb91dcacd",
   "metadata": {},
   "source": [
    "Q2. What are the different methods used for Web Scraping?"
   ]
  },
  {
   "cell_type": "markdown",
   "id": "a00db785-b258-4eb3-95b2-ace8000ce41c",
   "metadata": {},
   "source": [
    "Ans :1.HTML Parsing\n",
    "2.DOM Parsing\n",
    "3.Vertical Aggregation\n",
    "4.XPath\n",
    "5.Google Sheets\n",
    "6.Rate Limit User Requests"
   ]
  },
  {
   "cell_type": "markdown",
   "id": "e75b0175-c412-433f-994f-0808ad66bb2f",
   "metadata": {},
   "source": [
    "Q3. What is Beautiful Soup? Why is it used?"
   ]
  },
  {
   "cell_type": "markdown",
   "id": "69e601c5-f6a4-4a7e-a5e4-d9e9185ad813",
   "metadata": {},
   "source": [
    "Ans :Beautiful Soup is a Python library that is used for web scraping purposes to pull the data out of HTML and XML files"
   ]
  },
  {
   "cell_type": "markdown",
   "id": "33645760-da54-40db-98f9-e00ec9e232be",
   "metadata": {},
   "source": [
    "It creates a parse tree for parsed pages that can be used to extract data from HTML, which is useful for web scraping."
   ]
  },
  {
   "cell_type": "markdown",
   "id": "ac4d8a94-82e3-4245-bd18-62c9014d3d1e",
   "metadata": {},
   "source": [
    "Q4. Why is flask used in this Web Scraping project?"
   ]
  },
  {
   "cell_type": "markdown",
   "id": "c874645a-f36a-44d6-9cf0-7ec194341e45",
   "metadata": {},
   "source": [
    "Ans: Flask is a lightweight framework to build websites. We'll use this to parse our collected data and display it as HTML in a new HTML file. The requests module allows us to send http requests to the website we want to scrape. The first line imports the Flask class and the render_template method from the flask library."
   ]
  },
  {
   "cell_type": "markdown",
   "id": "78ecc788-fa71-46c2-894a-8b1b3c73ba2f",
   "metadata": {},
   "source": [
    "Q5. Write the names of AWS services used in this project. Also, explain the use of each service."
   ]
  },
  {
   "cell_type": "code",
   "execution_count": null,
   "id": "8b053a8b-8bfe-44fc-98f2-0e1c8cb3a2f8",
   "metadata": {},
   "outputs": [],
   "source": [
    "Ans :Beanstalk, code pipeline"
   ]
  },
  {
   "cell_type": "markdown",
   "id": "7058b8f1-12fc-40ae-baa9-ee8dae762a14",
   "metadata": {},
   "source": [
    "AWS CodePipeline is a continuous delivery service you can use to model, visualize, and automate the steps required to release your software."
   ]
  },
  {
   "cell_type": "markdown",
   "id": "27bae749-e6dd-4636-b8f7-b92a06d34581",
   "metadata": {},
   "source": [
    "Elastic Beanstalk is a service for deploying and scaling web applications and services. Upload your code and Elastic Beanstalk automatically handles the deployment—from capacity provisioning, load balancing, and auto scaling to application health monitoring."
   ]
  }
 ],
 "metadata": {
  "kernelspec": {
   "display_name": "Python 3 (ipykernel)",
   "language": "python",
   "name": "python3"
  },
  "language_info": {
   "codemirror_mode": {
    "name": "ipython",
    "version": 3
   },
   "file_extension": ".py",
   "mimetype": "text/x-python",
   "name": "python",
   "nbconvert_exporter": "python",
   "pygments_lexer": "ipython3",
   "version": "3.10.8"
  }
 },
 "nbformat": 4,
 "nbformat_minor": 5
}
